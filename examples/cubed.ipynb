{
 "cells": [
  {
   "cell_type": "markdown",
   "id": "a1b16cc7",
   "metadata": {
    "slideshow": {
     "slide_type": "slide"
    }
   },
   "source": [
    "# Cubed: an introduction\n",
    "\n",
    "Tom White, August 2022"
   ]
  },
  {
   "cell_type": "markdown",
   "id": "6b1259f1",
   "metadata": {
    "slideshow": {
     "slide_type": "slide"
    }
   },
   "source": [
    "# Idea\n",
    "\n",
    "Use Zarr as the underlying intermediate persistent storage between array operations.\n",
    "\n",
    "![Cubed idea](cubed-idea.svg)\n",
    "\n",
    "Tasks operate on Zarr chunks.\n",
    "\n",
    "Tasks are embarassingly parallel, and their runtime memory can be tightly controlled."
   ]
  },
  {
   "cell_type": "markdown",
   "id": "821b8c57",
   "metadata": {
    "slideshow": {
     "slide_type": "slide"
    }
   },
   "source": [
    "# Primitives\n",
    "\n",
    "* __Blockwise__: applies a function to multiple blocks from multiple inputs\n",
    "* __Rechunk__: changes chunking, without changing shape/dtype\n",
    "\n",
    "Dask introduced both of these operations.\n",
    "\n",
    "__Almost all__ array operations can be implemented using these two primitives!"
   ]
  },
  {
   "cell_type": "markdown",
   "id": "48cd218a",
   "metadata": {
    "slideshow": {
     "slide_type": "slide"
    }
   },
   "source": [
    "# Design\n",
    "\n",
    "Cubed is composed of five layers: from the storage layer at the bottom, to the Array API layer at the top: \n",
    "\n",
    "![Five layer diagram](../design.svg)"
   ]
  },
  {
   "cell_type": "markdown",
   "id": "bc1695ae",
   "metadata": {
    "slideshow": {
     "slide_type": "slide"
    }
   },
   "source": [
    "# Demo\n",
    "\n",
    "Cubed implements the [Python Array API standard](https://data-apis.org/array-api/latest/)"
   ]
  },
  {
   "cell_type": "code",
   "execution_count": 1,
   "id": "3d5df36e",
   "metadata": {
    "slideshow": {
     "slide_type": "fragment"
    }
   },
   "outputs": [],
   "source": [
    "import cubed.array_api as xp\n",
    "a = xp.asarray([[1, 2, 3], [4, 5, 6], [7, 8, 9]], chunks=(2, 2))"
   ]
  },
  {
   "cell_type": "markdown",
   "id": "ef575255",
   "metadata": {
    "slideshow": {
     "slide_type": "fragment"
    }
   },
   "source": [
    "Notice that we specify chunks, just like in Dask Array."
   ]
  },
  {
   "cell_type": "code",
   "execution_count": 2,
   "id": "c073e911",
   "metadata": {
    "slideshow": {
     "slide_type": "fragment"
    }
   },
   "outputs": [],
   "source": [
    "b = xp.asarray([[1, 1, 1], [1, 1, 1], [1, 1, 1]], chunks=(2, 2))\n",
    "c = xp.add(a, b)"
   ]
  },
  {
   "cell_type": "markdown",
   "id": "86d7d212",
   "metadata": {
    "slideshow": {
     "slide_type": "fragment"
    }
   },
   "source": [
    "Cubed uses lazy evaluation, so nothing has been computed yet."
   ]
  },
  {
   "cell_type": "code",
   "execution_count": 3,
   "id": "d59f9b0a",
   "metadata": {
    "slideshow": {
     "slide_type": "fragment"
    }
   },
   "outputs": [
    {
     "data": {
      "text/plain": [
       "array([[ 2,  3,  4],\n",
       "       [ 5,  6,  7],\n",
       "       [ 8,  9, 10]])"
      ]
     },
     "execution_count": 3,
     "metadata": {},
     "output_type": "execute_result"
    }
   ],
   "source": [
    "c.compute()"
   ]
  },
  {
   "cell_type": "markdown",
   "id": "b3785e95",
   "metadata": {
    "slideshow": {
     "slide_type": "slide"
    }
   },
   "source": [
    "# Computation plan\n",
    "\n",
    "Cubed creates a computation _plan_, which is a directed acyclic graph (DAG)."
   ]
  },
  {
   "cell_type": "code",
   "execution_count": 4,
   "id": "a0a5a232",
   "metadata": {
    "slideshow": {
     "slide_type": "fragment"
    }
   },
   "outputs": [
    {
     "data": {
      "image/svg+xml": [
       "<svg xmlns=\"http://www.w3.org/2000/svg\" xmlns:xlink=\"http://www.w3.org/1999/xlink\" width=\"290pt\" height=\"116pt\" viewBox=\"0.00 0.00 290.00 116.00\">\n",
       "<g id=\"graph0\" class=\"graph\" transform=\"scale(1 1) rotate(0) translate(4 112)\">\n",
       "<polygon fill=\"white\" stroke=\"transparent\" points=\"-4,4 -4,-112 286,-112 286,4 -4,4\"/>\n",
       "<!-- array&#45;001 -->\n",
       "<g id=\"node1\" class=\"node\">\n",
       "<title>array-001</title>\n",
       "<g id=\"a_node1\"><a xlink:title=\"shape: (3, 3)\n",
       "chunks: (2, 2)\n",
       "dtype: int64\n",
       "chunk memory: 32 bytes\n",
       "\n",
       "calls: &lt;cell line: 2&gt; -&gt; asarray\" target=\"zarr.core.Array (3, 3) int64\">\n",
       "<polygon fill=\"none\" stroke=\"black\" points=\"132,-108 0,-108 0,-72 132,-72 132,-108\"/>\n",
       "<text text-anchor=\"middle\" x=\"66\" y=\"-86.3\" font-family=\"Helvetica,sans-Serif\" font-size=\"14.00\">array-001 (asarray)</text>\n",
       "</a>\n",
       "</g>\n",
       "</g>\n",
       "<!-- array&#45;003 -->\n",
       "<g id=\"node3\" class=\"node\">\n",
       "<title>array-003</title>\n",
       "<g id=\"a_node3\"><a xlink:title=\"shape: (3, 3)\n",
       "chunks: (2, 2)\n",
       "dtype: int64\n",
       "chunk memory: 32 bytes\n",
       "\n",
       "task memory: 192 bytes\n",
       "tasks: 4\n",
       "calls: &lt;cell line: 2&gt; -&gt; add -&gt; elemwise -&gt; blockwise\" target=\"zarr.core.Array (3, 3) int64\">\n",
       "<polygon fill=\"none\" stroke=\"black\" points=\"214,-36 68,-36 68,0 214,0 214,-36\"/>\n",
       "<text text-anchor=\"middle\" x=\"141\" y=\"-14.3\" font-family=\"Helvetica,sans-Serif\" font-size=\"14.00\">array-003 (blockwise)</text>\n",
       "</a>\n",
       "</g>\n",
       "</g>\n",
       "<!-- array&#45;001&#45;&gt;array&#45;003 -->\n",
       "<g id=\"edge1\" class=\"edge\">\n",
       "<title>array-001-&gt;array-003</title>\n",
       "<path fill=\"none\" stroke=\"black\" d=\"M84.54,-71.7C93.8,-63.05 105.16,-52.45 115.26,-43.03\"/>\n",
       "<polygon fill=\"black\" stroke=\"black\" points=\"117.75,-45.49 122.67,-36.1 112.98,-40.37 117.75,-45.49\"/>\n",
       "</g>\n",
       "<!-- array&#45;002 -->\n",
       "<g id=\"node2\" class=\"node\">\n",
       "<title>array-002</title>\n",
       "<g id=\"a_node2\"><a xlink:title=\"shape: (3, 3)\n",
       "chunks: (2, 2)\n",
       "dtype: int64\n",
       "chunk memory: 32 bytes\n",
       "\n",
       "calls: &lt;cell line: 1&gt; -&gt; asarray\" target=\"zarr.core.Array (3, 3) int64\">\n",
       "<polygon fill=\"none\" stroke=\"black\" points=\"282,-108 150,-108 150,-72 282,-72 282,-108\"/>\n",
       "<text text-anchor=\"middle\" x=\"216\" y=\"-86.3\" font-family=\"Helvetica,sans-Serif\" font-size=\"14.00\">array-002 (asarray)</text>\n",
       "</a>\n",
       "</g>\n",
       "</g>\n",
       "<!-- array&#45;002&#45;&gt;array&#45;003 -->\n",
       "<g id=\"edge2\" class=\"edge\">\n",
       "<title>array-002-&gt;array-003</title>\n",
       "<path fill=\"none\" stroke=\"black\" d=\"M197.46,-71.7C188.2,-63.05 176.84,-52.45 166.74,-43.03\"/>\n",
       "<polygon fill=\"black\" stroke=\"black\" points=\"169.02,-40.37 159.33,-36.1 164.25,-45.49 169.02,-40.37\"/>\n",
       "</g>\n",
       "</g>\n",
       "</svg>"
      ],
      "text/plain": [
       "<IPython.core.display.SVG object>"
      ]
     },
     "execution_count": 4,
     "metadata": {},
     "output_type": "execute_result"
    }
   ],
   "source": [
    "c.visualize()"
   ]
  },
  {
   "cell_type": "markdown",
   "id": "5f87eebe",
   "metadata": {
    "slideshow": {
     "slide_type": "fragment"
    }
   },
   "source": [
    "Cubed will optimize the graph before computing it - by fusing blockwise (map) operations, for example.\n",
    "\n",
    "Unlike a Dask graph which is at the task level, a Cubed graph is at the Zarr array level."
   ]
  },
  {
   "cell_type": "markdown",
   "id": "ba00f446",
   "metadata": {
    "slideshow": {
     "slide_type": "slide"
    }
   },
   "source": [
    "# Memory\n",
    "\n",
    "Cubed models the memory used by every operation.\n",
    "\n",
    "If required memory is less than what user specifies then an exception is raised __during planning__"
   ]
  },
  {
   "cell_type": "code",
   "execution_count": 5,
   "id": "5bcc8dc2",
   "metadata": {
    "slideshow": {
     "slide_type": "slide"
    }
   },
   "outputs": [
    {
     "name": "stdout",
     "output_type": "stream",
     "text": [
      "Blockwise memory (192) exceeds max_mem (100)\n"
     ]
    }
   ],
   "source": [
    "import cubed\n",
    "spec = cubed.Spec(work_dir=\"tmp\", max_mem=100)  # not enough memory!\n",
    "a = xp.asarray([[1, 2, 3], [4, 5, 6], [7, 8, 9]], chunks=(2, 2), spec=spec)\n",
    "b = xp.asarray([[1, 1, 1], [1, 1, 1], [1, 1, 1]], chunks=(2, 2), spec=spec)\n",
    "try:\n",
    "    c = xp.add(a, b)\n",
    "except ValueError as e:\n",
    "    print(e)"
   ]
  },
  {
   "cell_type": "markdown",
   "id": "5a672bf2",
   "metadata": {
    "slideshow": {
     "slide_type": "slide"
    }
   },
   "source": [
    "# Peak memory\n",
    "\n",
    "Cubed measures the peak amount of memory actually used during runtime.\n",
    "\n",
    "Used to checked utilization, and improve the modelling.\n",
    "\n",
    "```\n",
    "  array_name    op_name  num_tasks  peak_mem_delta_mb_max  required_mem_mb  utilization\n",
    "0  array-003    rechunk          1             103.727104         0.000064          NaN\n",
    "1  array-004  blockwise          4             654.286848       800.000008     0.817859\n",
    "2  array-007    rechunk          1             103.645184         0.000064          NaN\n",
    "3  array-008  blockwise          4             654.364672       800.000008     0.817956\n",
    "4  array-009  blockwise          4             796.954624      1200.000000     0.664129\n",
    "```\n"
   ]
  },
  {
   "cell_type": "markdown",
   "id": "2527cf98",
   "metadata": {
    "slideshow": {
     "slide_type": "slide"
    }
   },
   "source": [
    "# Runtimes\n",
    "\n",
    "* __Modal__: new serverless platform, in private beta\n",
    "    * Very easy to set up\n",
    "    * Limited scalability (during beta)\n",
    "* __Lithops__: multi-cloud serverless computing framework\n",
    "    * Set up more involved (create a docker image)\n",
    "    * Only tested on AWS Lambda with Cubed\n",
    "* __Apache Beam (Google Cloud Dataflow)__: fully managed pipeline processing service\n",
    "    * Some initial testing\n",
    "    * Slow to spin up\n",
    "* __Other Rechunker runtimes__\n",
    "    * Dask, Prefect etc - not tried"
   ]
  },
  {
   "cell_type": "markdown",
   "id": "08a78436",
   "metadata": {
    "slideshow": {
     "slide_type": "slide"
    }
   },
   "source": [
    "# Example timeline\n",
    "\n",
    "Adding two 20GB arrays on Modal\n",
    "\n",
    "![Modal timeline](cubed-modal-timeline.png)"
   ]
  },
  {
   "cell_type": "markdown",
   "id": "36b2576e",
   "metadata": {
    "slideshow": {
     "slide_type": "slide"
    }
   },
   "source": [
    "# Scalability and robustness\n",
    "\n",
    "* Serverless scales out\n",
    "    * AWS Lambda supports 1000 concurrent instances by default\n",
    "    * PyWren paper: https://shivaram.org/publications/pywren-socc17.pdf\n",
    "* Retries\n",
    "    * Each task is tried three times before failing\n",
    "* Stragglers\n",
    "    * A backup task will be launched if a task is taking significantly longer than average"
   ]
  },
  {
   "cell_type": "markdown",
   "id": "db82ee51",
   "metadata": {
    "slideshow": {
     "slide_type": "slide"
    }
   },
   "source": [
    "# Next steps\n",
    "\n",
    "* Xarray integration\n",
    "    * Improve Xarray integration with the Python Array API\n",
    "        * Started in https://github.com/pydata/xarray/issues/3232\n",
    "    * Add `gufunc` to Cubed: https://github.com/tomwhite/cubed/issues/67\n",
    "* Improve Array API coverage\n",
    "    * https://github.com/tomwhite/cubed/blob/main/api_status.md\n",
    "* Use cases\n",
    "    * Pangeo\n",
    "    * sgkit\n",
    "* Ease of use\n",
    "    * Build Lithops image on cloud: https://github.com/lithops-cloud/lithops/issues/972\n",
    "    * Realtime UI"
   ]
  }
 ],
 "metadata": {
  "celltoolbar": "Slideshow",
  "kernelspec": {
   "display_name": "Python 3 (ipykernel)",
   "language": "python",
   "name": "python3"
  },
  "language_info": {
   "codemirror_mode": {
    "name": "ipython",
    "version": 3
   },
   "file_extension": ".py",
   "mimetype": "text/x-python",
   "name": "python",
   "nbconvert_exporter": "python",
   "pygments_lexer": "ipython3",
   "version": "3.8.13"
  }
 },
 "nbformat": 4,
 "nbformat_minor": 5
}
