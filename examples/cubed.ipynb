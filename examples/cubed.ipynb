{
 "cells": [
  {
   "cell_type": "markdown",
   "id": "a1b16cc7",
   "metadata": {
    "slideshow": {
     "slide_type": "slide"
    }
   },
   "source": [
    "# Cubed: an introduction\n",
    "\n",
    "Tom White, October 2022"
   ]
  },
  {
   "cell_type": "markdown",
   "id": "6b1259f1",
   "metadata": {
    "slideshow": {
     "slide_type": "slide"
    }
   },
   "source": [
    "# Idea\n",
    "\n",
    "Use Zarr as the underlying intermediate persistent storage between array operations.\n",
    "\n",
    "![Cubed idea](cubed-idea.svg)\n",
    "\n",
    "Tasks operate on Zarr chunks.\n",
    "\n",
    "Tasks are embarassingly parallel, and their runtime memory can be tightly controlled."
   ]
  },
  {
   "cell_type": "markdown",
   "id": "bc1695ae",
   "metadata": {
    "slideshow": {
     "slide_type": "slide"
    }
   },
   "source": [
    "# Demo\n",
    "\n",
    "Cubed implements the [Python Array API standard](https://data-apis.org/array-api/latest/)"
   ]
  },
  {
   "cell_type": "code",
   "execution_count": 1,
   "id": "3d5df36e",
   "metadata": {
    "slideshow": {
     "slide_type": "fragment"
    }
   },
   "outputs": [],
   "source": [
    "import cubed.array_api as xp\n",
    "a = xp.asarray([[1, 2, 3], [4, 5, 6], [7, 8, 9]], chunks=(2, 2))"
   ]
  },
  {
   "cell_type": "markdown",
   "id": "ef575255",
   "metadata": {
    "slideshow": {
     "slide_type": "fragment"
    }
   },
   "source": [
    "Notice that we specify chunks, just like in Dask Array."
   ]
  },
  {
   "cell_type": "code",
   "execution_count": 2,
   "id": "c073e911",
   "metadata": {
    "slideshow": {
     "slide_type": "fragment"
    }
   },
   "outputs": [],
   "source": [
    "b = xp.asarray([[1, 1, 1], [1, 1, 1], [1, 1, 1]], chunks=(2, 2))\n",
    "c = xp.add(a, b)"
   ]
  },
  {
   "cell_type": "markdown",
   "id": "86d7d212",
   "metadata": {
    "slideshow": {
     "slide_type": "fragment"
    }
   },
   "source": [
    "Cubed uses lazy evaluation, so nothing has been computed yet."
   ]
  },
  {
   "cell_type": "code",
   "execution_count": 3,
   "id": "d59f9b0a",
   "metadata": {
    "slideshow": {
     "slide_type": "fragment"
    }
   },
   "outputs": [
    {
     "data": {
      "text/plain": [
       "array([[ 2,  3,  4],\n",
       "       [ 5,  6,  7],\n",
       "       [ 8,  9, 10]])"
      ]
     },
     "execution_count": 3,
     "metadata": {},
     "output_type": "execute_result"
    }
   ],
   "source": [
    "c.compute()"
   ]
  },
  {
   "cell_type": "markdown",
   "id": "821b8c57",
   "metadata": {
    "slideshow": {
     "slide_type": "slide"
    }
   },
   "source": [
    "# Primitives\n",
    "\n",
    "* __Blockwise__: applies a function to multiple blocks from multiple inputs\n",
    "* __Rechunk__: changes chunking, without changing shape/dtype\n",
    "\n",
    "Dask introduced both of these operations.\n",
    "\n",
    "__Almost all__ array operations can be implemented using these two primitives!"
   ]
  },
  {
   "cell_type": "markdown",
   "id": "48cd218a",
   "metadata": {
    "slideshow": {
     "slide_type": "slide"
    }
   },
   "source": [
    "# Design\n",
    "\n",
    "Cubed is composed of five layers: from the storage layer at the bottom, to the Array API layer at the top: \n",
    "\n",
    "![Five layer diagram](../docs/images/design.svg)"
   ]
  },
  {
   "cell_type": "markdown",
   "id": "40128904",
   "metadata": {
    "slideshow": {
     "slide_type": "slide"
    }
   },
   "source": [
    "# Core and Primitive Operations\n",
    "\n",
    "![Core and Primitive Operations](../docs/images/ops.dot.svg)"
   ]
  },
  {
   "cell_type": "markdown",
   "id": "ffcedf91",
   "metadata": {
    "slideshow": {
     "slide_type": "slide"
    }
   },
   "source": [
    "# Example: `map_direct`\n",
    "\n",
    "![`map_direct`](../docs/images/map_direct.svg)\n",
    "\n",
    "Each block in the output array is read directly from one or more blocks from the inputs.\n",
    "\n",
    "Can cross block boundaries."
   ]
  },
  {
   "cell_type": "markdown",
   "id": "451285f2",
   "metadata": {
    "slideshow": {
     "slide_type": "slide"
    }
   },
   "source": [
    "# Example: `reduction`\n",
    "\n",
    "![`reduction`](../docs/images/reduction.svg)\n",
    "\n",
    "Implemented using multiple rounds of calls to `blockwise` and `rechunk`."
   ]
  },
  {
   "cell_type": "markdown",
   "id": "b3785e95",
   "metadata": {
    "slideshow": {
     "slide_type": "slide"
    }
   },
   "source": [
    "# Computation plan\n",
    "\n",
    "Cubed creates a computation _plan_, which is a directed acyclic graph (DAG)."
   ]
  },
  {
   "cell_type": "code",
   "execution_count": 4,
   "id": "a0a5a232",
   "metadata": {
    "slideshow": {
     "slide_type": "fragment"
    }
   },
   "outputs": [
    {
     "data": {
      "image/svg+xml": "<svg xmlns=\"http://www.w3.org/2000/svg\" xmlns:xlink=\"http://www.w3.org/1999/xlink\" width=\"157pt\" height=\"146pt\" viewBox=\"0.00 0.00 157.00 146.00\">\n<g id=\"graph0\" class=\"graph\" transform=\"scale(1 1) rotate(0) translate(4 142)\">\n<polygon fill=\"white\" stroke=\"transparent\" points=\"-4,4 -4,-142 153,-142 153,4 -4,4\"/>\n<text text-anchor=\"middle\" x=\"74.5\" y=\"-18\" font-family=\"Times,serif\" font-size=\"10.00\">num tasks: 4</text>\n<text text-anchor=\"middle\" x=\"74.5\" y=\"-7\" font-family=\"Times,serif\" font-size=\"10.00\">max required memory: 192 bytes</text>\n<!-- array&#45;001 -->\n<g id=\"node1\" class=\"node\">\n<title>array-001</title>\n<g id=\"a_node1\"><a xlink:title=\"shape: (3, 3)\nchunks: (2, 2)\ndtype: int64\nchunk memory: 32 bytes\n\ncalls: &lt;module&gt; -&gt; asarray\nline: 2 in &lt;module&gt;\">\n<polygon fill=\"none\" stroke=\"black\" points=\"65.5,-138 6.5,-138 6.5,-102 65.5,-102 65.5,-138\"/>\n<text text-anchor=\"middle\" x=\"36\" y=\"-123\" font-family=\"Helvetica,sans-Serif\" font-size=\"10.00\">array-001</text>\n<text text-anchor=\"middle\" x=\"36\" y=\"-112\" font-family=\"Helvetica,sans-Serif\" font-size=\"10.00\">asarray </text>\n</a>\n</g>\n</g>\n<!-- array&#45;004 -->\n<g id=\"node3\" class=\"node\">\n<title>array-004</title>\n<g id=\"a_node3\"><a xlink:title=\"shape: (3, 3)\nchunks: (2, 2)\ndtype: int64\nchunk memory: 32 bytes\n\ntask memory: 192 bytes\ntasks: 4\ncalls: &lt;module&gt; -&gt; add -&gt; elemwise -&gt; blockwise\nline: 1 in &lt;module&gt;\">\n<polygon fill=\"#dcbeff\" stroke=\"black\" points=\"103.5,-66 44.5,-66 44.5,-30 103.5,-30 103.5,-66\"/>\n<text text-anchor=\"middle\" x=\"74\" y=\"-51\" font-family=\"Helvetica,sans-Serif\" font-size=\"10.00\">array-004</text>\n<text text-anchor=\"middle\" x=\"74\" y=\"-40\" font-family=\"Helvetica,sans-Serif\" font-size=\"10.00\">add (bw)</text>\n</a>\n</g>\n</g>\n<!-- array&#45;001&#45;&gt;array&#45;004 -->\n<g id=\"edge1\" class=\"edge\">\n<title>array-001-&gt;array-004</title>\n<path fill=\"none\" stroke=\"black\" d=\"M45.39,-101.7C49.76,-93.64 55.06,-83.89 59.9,-74.98\"/>\n<polygon fill=\"black\" stroke=\"black\" points=\"63.02,-76.56 64.71,-66.1 56.87,-73.22 63.02,-76.56\"/>\n</g>\n<!-- array&#45;002 -->\n<g id=\"node2\" class=\"node\">\n<title>array-002</title>\n<g id=\"a_node2\"><a xlink:title=\"shape: (3, 3)\nchunks: (2, 2)\ndtype: int64\nchunk memory: 32 bytes\n\ncalls: &lt;module&gt; -&gt; asarray\nline: 1 in &lt;module&gt;\">\n<polygon fill=\"none\" stroke=\"black\" points=\"142.5,-138 83.5,-138 83.5,-102 142.5,-102 142.5,-138\"/>\n<text text-anchor=\"middle\" x=\"113\" y=\"-123\" font-family=\"Helvetica,sans-Serif\" font-size=\"10.00\">array-002</text>\n<text text-anchor=\"middle\" x=\"113\" y=\"-112\" font-family=\"Helvetica,sans-Serif\" font-size=\"10.00\">asarray </text>\n</a>\n</g>\n</g>\n<!-- array&#45;002&#45;&gt;array&#45;004 -->\n<g id=\"edge2\" class=\"edge\">\n<title>array-002-&gt;array-004</title>\n<path fill=\"none\" stroke=\"black\" d=\"M103.36,-101.7C98.87,-93.64 93.44,-83.89 88.48,-74.98\"/>\n<polygon fill=\"black\" stroke=\"black\" points=\"91.45,-73.14 83.53,-66.1 85.34,-76.54 91.45,-73.14\"/>\n</g>\n</g>\n</svg>",
      "text/plain": [
       "<IPython.core.display.SVG object>"
      ]
     },
     "execution_count": 4,
     "metadata": {},
     "output_type": "execute_result"
    }
   ],
   "source": [
    "c = xp.add(a, b)\n",
    "c.visualize()"
   ]
  },
  {
   "cell_type": "markdown",
   "id": "5f87eebe",
   "metadata": {
    "slideshow": {
     "slide_type": "fragment"
    }
   },
   "source": [
    "Unlike a Dask graph which is at the task level, a Cubed graph is at the Zarr array level."
   ]
  },
  {
   "cell_type": "markdown",
   "id": "eec70e88",
   "metadata": {
    "slideshow": {
     "slide_type": "slide"
    }
   },
   "source": [
    "# Optimization\n",
    "\n",
    "Cubed will optimize the graph before computing it - by fusing blockwise (map) operations.\n",
    "\n",
    "<p float=\"left\">\n",
    "  <img src=\"fusion-unoptimized.png\" />\n",
    "  <img src=\"fusion.png\" />\n",
    "</p>\n",
    "\n",
    "This is a simple case - still lots of optimizations left to do."
   ]
  },
  {
   "cell_type": "markdown",
   "id": "ba00f446",
   "metadata": {
    "slideshow": {
     "slide_type": "slide"
    }
   },
   "source": [
    "# Memory\n",
    "\n",
    "Cubed models the memory used by every operation, and predicts the `required_mem` for each task.\n",
    "\n",
    "<img src=\"../docs/images/memory.svg\" width=\"600\">"
   ]
  },
  {
   "cell_type": "markdown",
   "id": "8f52dabc",
   "metadata": {
    "slideshow": {
     "slide_type": "slide"
    }
   },
   "source": [
    "If required memory is less than what user specifies then an exception is raised __during planning__"
   ]
  },
  {
   "cell_type": "code",
   "execution_count": 5,
   "id": "5bcc8dc2",
   "metadata": {
    "slideshow": {
     "slide_type": "fragment"
    }
   },
   "outputs": [
    {
     "name": "stdout",
     "output_type": "stream",
     "text": [
      "Blockwise memory (192) exceeds max_mem (100)\n"
     ]
    }
   ],
   "source": [
    "import cubed\n",
    "spec = cubed.Spec(work_dir=\"tmp\", max_mem=100)  # not enough memory!\n",
    "a = xp.asarray([[1, 2, 3], [4, 5, 6], [7, 8, 9]], chunks=(2, 2), spec=spec)\n",
    "b = xp.asarray([[1, 1, 1], [1, 1, 1], [1, 1, 1]], chunks=(2, 2), spec=spec)\n",
    "try:\n",
    "    c = xp.add(a, b)\n",
    "except ValueError as e:\n",
    "    print(e)"
   ]
  },
  {
   "cell_type": "markdown",
   "id": "5a672bf2",
   "metadata": {
    "slideshow": {
     "slide_type": "slide"
    }
   },
   "source": [
    "# Peak memory\n",
    "\n",
    "Cubed measures the peak amount of memory actually used during runtime.\n",
    "\n",
    "Used to checked utilization, and improve the modelling.\n",
    "\n",
    "```\n",
    "  array_name    op_name  num_tasks  peak_mem_delta_mb_max  required_mem_mb  utilization\n",
    "0  array-003    rechunk          1             103.727104         0.000064          NaN\n",
    "1  array-004  blockwise          4             654.286848       800.000008     0.817859\n",
    "2  array-007    rechunk          1             103.645184         0.000064          NaN\n",
    "3  array-008  blockwise          4             654.364672       800.000008     0.817956\n",
    "4  array-009  blockwise          4             796.954624      1200.000000     0.664129\n",
    "```\n"
   ]
  },
  {
   "cell_type": "markdown",
   "id": "2527cf98",
   "metadata": {
    "slideshow": {
     "slide_type": "slide"
    }
   },
   "source": [
    "# Runtimes"
   ]
  },
  {
   "cell_type": "markdown",
   "id": "b1fb4379",
   "metadata": {
    "slideshow": {
     "slide_type": "fragment"
    }
   },
   "source": [
    "* __Modal__: new serverless platform, in private beta\n",
    "    * Very easy to set up (if you have an account!)\n",
    "    * Tested with ~50 workers"
   ]
  },
  {
   "cell_type": "markdown",
   "id": "d5a1fddd",
   "metadata": {
    "slideshow": {
     "slide_type": "fragment"
    }
   },
   "source": [
    "* __Lithops__: multi-cloud serverless computing framework\n",
    "    * Set up more involved (create a docker image)\n",
    "    * Only tested on AWS Lambda with Cubed, with hundreds of workers"
   ]
  },
  {
   "cell_type": "markdown",
   "id": "edcd5b33",
   "metadata": {
    "slideshow": {
     "slide_type": "fragment"
    }
   },
   "source": [
    "* __Apache Beam (Google Cloud Dataflow)__: fully managed pipeline processing service\n",
    "    * Slow to spin up\n",
    "    * Only tested with ~20 workers, but most mature so will scale out"
   ]
  },
  {
   "cell_type": "markdown",
   "id": "1b7ef211",
   "metadata": {
    "slideshow": {
     "slide_type": "fragment"
    }
   },
   "source": [
    "* __Other Rechunker runtimes__\n",
    "    * Dask, Prefect etc - not tried"
   ]
  },
  {
   "cell_type": "markdown",
   "id": "08a78436",
   "metadata": {
    "slideshow": {
     "slide_type": "slide"
    }
   },
   "source": [
    "# Example timeline\n",
    "\n",
    "Adding two 20GB arrays on Modal\n",
    "\n",
    "![Modal timeline](cubed-modal-timeline.png)"
   ]
  },
  {
   "cell_type": "markdown",
   "id": "36b2576e",
   "metadata": {
    "slideshow": {
     "slide_type": "slide"
    }
   },
   "source": [
    "# Scalability and robustness\n",
    "\n",
    "* Serverless scales out\n",
    "    * AWS Lambda supports 1000 concurrent instances by default\n",
    "    * PyWren paper: [https://shivaram.org/publications/pywren-socc17.pdf](https://shivaram.org/publications/pywren-socc17.pdf)\n",
    "* Retries\n",
    "    * Each task is tried three times before failing\n",
    "* Stragglers\n",
    "    * A backup task will be launched if a task is taking significantly longer than average"
   ]
  },
  {
   "cell_type": "markdown",
   "id": "db82ee51",
   "metadata": {
    "slideshow": {
     "slide_type": "slide"
    }
   },
   "source": [
    "# Next steps\n",
    "\n",
    "* Community\n",
    "* Xarray integration - Tom N\n",
    "    * [Integrate cubed in xarray](https://github.com/pydata/xarray/pull/7019)\n",
    "    * [Add `gufunc` to Cubed](https://github.com/tomwhite/cubed/pull/119)\n",
    "* Use cases\n",
    "    * [Pangeo](https://github.com/pangeo-data/distributed-array-examples/issues/1)\n",
    "    * sgkit\n",
    "* Optimization\n",
    "    * [Fuse connected blockwise subgraphs](https://github.com/tomwhite/cubed/issues/136)\n",
    "    * [Support multiple outputs in blockwise](https://github.com/tomwhite/cubed/issues/69)\n",
    "    * Use [Xarray-Beam](https://github.com/tomwhite/cubed/issues/117)\n",
    "* Ease of use\n",
    "* Improve [Array API coverage](https://github.com/tomwhite/cubed/blob/main/api_status.md)"
   ]
  }
 ],
 "metadata": {
  "celltoolbar": "Slideshow",
  "kernelspec": {
   "display_name": "Python 3 (ipykernel)",
   "language": "python",
   "name": "python3"
  },
  "language_info": {
   "codemirror_mode": {
    "name": "ipython",
    "version": 3
   },
   "file_extension": ".py",
   "mimetype": "text/x-python",
   "name": "python",
   "nbconvert_exporter": "python",
   "pygments_lexer": "ipython3",
   "version": "3.9.8"
  }
 },
 "nbformat": 4,
 "nbformat_minor": 5
}
