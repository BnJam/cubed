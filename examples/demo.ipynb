{
 "cells": [
  {
   "cell_type": "markdown",
   "id": "cdfa6553",
   "metadata": {},
   "source": [
    "# Cubed Demo"
   ]
  },
  {
   "cell_type": "markdown",
   "id": "6783c383",
   "metadata": {},
   "source": [
    "Cubed implements the [Python Array API standard](https://data-apis.org/array-api/latest/) - or currently a small subset - so a simple way to create an array for demonstration purposes is using `asarray`:"
   ]
  },
  {
   "cell_type": "code",
   "execution_count": 1,
   "id": "4fa8c864",
   "metadata": {},
   "outputs": [],
   "source": [
    "import cubed\n",
    "import cubed.array_api as xp\n",
    "a = xp.asarray([[1, 2, 3], [4, 5, 6], [7, 8, 9]], chunks=(2, 2))"
   ]
  },
  {
   "cell_type": "markdown",
   "id": "a7c8fb87",
   "metadata": {},
   "source": [
    "Notice that we specify chunks, just like in Dask Array.\n",
    "\n",
    "Let's create another array and then add them together."
   ]
  },
  {
   "cell_type": "code",
   "execution_count": 2,
   "id": "d5775ba1",
   "metadata": {},
   "outputs": [
    {
     "data": {
      "text/plain": [
       "Array<array-003, shape=(3, 3), dtype=int64, chunks=((2, 1), (2, 1))>"
      ]
     },
     "execution_count": 2,
     "metadata": {},
     "output_type": "execute_result"
    }
   ],
   "source": [
    "b = xp.asarray([[1, 1, 1], [1, 1, 1], [1, 1, 1]], chunks=(2, 2))\n",
    "c = xp.add(a, b)\n",
    "c"
   ]
  },
  {
   "cell_type": "markdown",
   "id": "f35e7cb3",
   "metadata": {},
   "source": [
    "Cubed uses lazy evaluation, so nothing has been computed yet. We call `compute()` to run the computation and get the result as a NumPy array. (Again, just like in Dask.)"
   ]
  },
  {
   "cell_type": "code",
   "execution_count": 3,
   "id": "eac161e5",
   "metadata": {},
   "outputs": [
    {
     "data": {
      "text/plain": [
       "array([[ 2,  3,  4],\n",
       "       [ 5,  6,  7],\n",
       "       [ 8,  9, 10]])"
      ]
     },
     "execution_count": 3,
     "metadata": {},
     "output_type": "execute_result"
    }
   ],
   "source": [
    "c.compute()"
   ]
  },
  {
   "cell_type": "markdown",
   "id": "c20410d0",
   "metadata": {},
   "source": [
    "## Storage"
   ]
  },
  {
   "cell_type": "markdown",
   "id": "e3af7bb4",
   "metadata": {},
   "source": [
    "Every array in Cubed is backed by a Zarr array. The arrays `a`, `b`, and `c` above are all written to a temporary directory on the filesystem. Let's set the working directory explicitly so we can inspect it later. We do this by creating a `Spec` object."
   ]
  },
  {
   "cell_type": "code",
   "execution_count": 4,
   "id": "98dbf62c",
   "metadata": {},
   "outputs": [],
   "source": [
    "spec = cubed.Spec(work_dir=\"tmp\", max_mem=100_000)"
   ]
  },
  {
   "cell_type": "markdown",
   "id": "f2363db6",
   "metadata": {},
   "source": [
    "We've also set the maximum memory to 100KB, which is plenty for these small arrays - we'll come back to that later.\n",
    "\n",
    "Now let's run the example again, passing in the spec when we create the arrays:"
   ]
  },
  {
   "cell_type": "code",
   "execution_count": 5,
   "id": "5d884308",
   "metadata": {},
   "outputs": [],
   "source": [
    "a = xp.asarray([[1, 2, 3], [4, 5, 6], [7, 8, 9]], chunks=(2, 2), spec=spec)\n",
    "b = xp.asarray([[1, 1, 1], [1, 1, 1], [1, 1, 1]], chunks=(2, 2), spec=spec)\n",
    "c = xp.add(a, b)"
   ]
  },
  {
   "cell_type": "markdown",
   "id": "4553e3af",
   "metadata": {},
   "source": [
    "If we look at what's in the work directory, we see that there are three Zarr arrays."
   ]
  },
  {
   "cell_type": "code",
   "execution_count": 6,
   "id": "a15e64e6",
   "metadata": {},
   "outputs": [
    {
     "name": "stdout",
     "output_type": "stream",
     "text": [
      "tmp\r\n",
      "tmp/context-20220628T125138-98eeab38-4d55-4bb8-bfc7-3a7129d7aeb9\r\n",
      "tmp/context-20220628T125138-98eeab38-4d55-4bb8-bfc7-3a7129d7aeb9/array-004.zarr\r\n",
      "tmp/context-20220628T125138-98eeab38-4d55-4bb8-bfc7-3a7129d7aeb9/array-004.zarr/.zarray\r\n",
      "tmp/context-20220628T125138-98eeab38-4d55-4bb8-bfc7-3a7129d7aeb9/array-004.zarr/0.0\r\n",
      "tmp/context-20220628T125138-98eeab38-4d55-4bb8-bfc7-3a7129d7aeb9/array-004.zarr/0.1\r\n",
      "tmp/context-20220628T125138-98eeab38-4d55-4bb8-bfc7-3a7129d7aeb9/array-004.zarr/1.0\r\n",
      "tmp/context-20220628T125138-98eeab38-4d55-4bb8-bfc7-3a7129d7aeb9/array-004.zarr/1.1\r\n",
      "tmp/context-20220628T125138-98eeab38-4d55-4bb8-bfc7-3a7129d7aeb9/array-005.zarr\r\n",
      "tmp/context-20220628T125138-98eeab38-4d55-4bb8-bfc7-3a7129d7aeb9/array-005.zarr/.zarray\r\n",
      "tmp/context-20220628T125138-98eeab38-4d55-4bb8-bfc7-3a7129d7aeb9/array-005.zarr/0.0\r\n",
      "tmp/context-20220628T125138-98eeab38-4d55-4bb8-bfc7-3a7129d7aeb9/array-005.zarr/0.1\r\n",
      "tmp/context-20220628T125138-98eeab38-4d55-4bb8-bfc7-3a7129d7aeb9/array-005.zarr/1.0\r\n",
      "tmp/context-20220628T125138-98eeab38-4d55-4bb8-bfc7-3a7129d7aeb9/array-005.zarr/1.1\r\n",
      "tmp/context-20220628T125138-98eeab38-4d55-4bb8-bfc7-3a7129d7aeb9/array-006.zarr\r\n",
      "tmp/context-20220628T125138-98eeab38-4d55-4bb8-bfc7-3a7129d7aeb9/array-006.zarr/.zarray\r\n"
     ]
    }
   ],
   "source": [
    "! find tmp | sort"
   ]
  },
  {
   "cell_type": "markdown",
   "id": "5e0fb8ce",
   "metadata": {},
   "source": [
    "Two Zarr arrays, corresponding to `a` and `b`, are populated with data even though we haven't run the calculation yet. This is because `asarray` writes the data to Zarr immediately.\n",
    "\n",
    "The third array, corresponding to `c`, only has Zarr metadata present (the `.zarray` file).\n",
    "\n",
    "When we call `compute()` we get the result back:"
   ]
  },
  {
   "cell_type": "code",
   "execution_count": 7,
   "id": "edcfb38b",
   "metadata": {},
   "outputs": [
    {
     "data": {
      "text/plain": [
       "array([[ 2,  3,  4],\n",
       "       [ 5,  6,  7],\n",
       "       [ 8,  9, 10]])"
      ]
     },
     "execution_count": 7,
     "metadata": {},
     "output_type": "execute_result"
    }
   ],
   "source": [
    "c.compute()"
   ]
  },
  {
   "cell_type": "markdown",
   "id": "8e04250d",
   "metadata": {},
   "source": [
    "And the resulting Zarr array, `c`, is now stored on the filesystem:"
   ]
  },
  {
   "cell_type": "code",
   "execution_count": 8,
   "id": "dfc54791",
   "metadata": {},
   "outputs": [
    {
     "name": "stdout",
     "output_type": "stream",
     "text": [
      "tmp\r\n",
      "tmp/context-20220628T125138-98eeab38-4d55-4bb8-bfc7-3a7129d7aeb9\r\n",
      "tmp/context-20220628T125138-98eeab38-4d55-4bb8-bfc7-3a7129d7aeb9/array-004.zarr\r\n",
      "tmp/context-20220628T125138-98eeab38-4d55-4bb8-bfc7-3a7129d7aeb9/array-004.zarr/.zarray\r\n",
      "tmp/context-20220628T125138-98eeab38-4d55-4bb8-bfc7-3a7129d7aeb9/array-004.zarr/0.0\r\n",
      "tmp/context-20220628T125138-98eeab38-4d55-4bb8-bfc7-3a7129d7aeb9/array-004.zarr/0.1\r\n",
      "tmp/context-20220628T125138-98eeab38-4d55-4bb8-bfc7-3a7129d7aeb9/array-004.zarr/1.0\r\n",
      "tmp/context-20220628T125138-98eeab38-4d55-4bb8-bfc7-3a7129d7aeb9/array-004.zarr/1.1\r\n",
      "tmp/context-20220628T125138-98eeab38-4d55-4bb8-bfc7-3a7129d7aeb9/array-005.zarr\r\n",
      "tmp/context-20220628T125138-98eeab38-4d55-4bb8-bfc7-3a7129d7aeb9/array-005.zarr/.zarray\r\n",
      "tmp/context-20220628T125138-98eeab38-4d55-4bb8-bfc7-3a7129d7aeb9/array-005.zarr/0.0\r\n",
      "tmp/context-20220628T125138-98eeab38-4d55-4bb8-bfc7-3a7129d7aeb9/array-005.zarr/0.1\r\n",
      "tmp/context-20220628T125138-98eeab38-4d55-4bb8-bfc7-3a7129d7aeb9/array-005.zarr/1.0\r\n",
      "tmp/context-20220628T125138-98eeab38-4d55-4bb8-bfc7-3a7129d7aeb9/array-005.zarr/1.1\r\n",
      "tmp/context-20220628T125138-98eeab38-4d55-4bb8-bfc7-3a7129d7aeb9/array-006.zarr\r\n",
      "tmp/context-20220628T125138-98eeab38-4d55-4bb8-bfc7-3a7129d7aeb9/array-006.zarr/.zarray\r\n",
      "tmp/context-20220628T125138-98eeab38-4d55-4bb8-bfc7-3a7129d7aeb9/array-006.zarr/0.0\r\n",
      "tmp/context-20220628T125138-98eeab38-4d55-4bb8-bfc7-3a7129d7aeb9/array-006.zarr/0.1\r\n",
      "tmp/context-20220628T125138-98eeab38-4d55-4bb8-bfc7-3a7129d7aeb9/array-006.zarr/1.0\r\n",
      "tmp/context-20220628T125138-98eeab38-4d55-4bb8-bfc7-3a7129d7aeb9/array-006.zarr/1.1\r\n"
     ]
    }
   ],
   "source": [
    "! find tmp | sort"
   ]
  },
  {
   "cell_type": "markdown",
   "id": "df3eebb4",
   "metadata": {},
   "source": [
    "We can look at the plan created for the computation by calling `visualize`."
   ]
  },
  {
   "cell_type": "code",
   "execution_count": 9,
   "id": "1aa9c506",
   "metadata": {},
   "outputs": [
    {
     "data": {
      "image/svg+xml": [
       "<svg xmlns=\"http://www.w3.org/2000/svg\" xmlns:xlink=\"http://www.w3.org/1999/xlink\" width=\"290pt\" height=\"116pt\" viewBox=\"0.00 0.00 290.00 116.00\">\n",
       "<g id=\"graph0\" class=\"graph\" transform=\"scale(1 1) rotate(0) translate(4 112)\">\n",
       "<polygon fill=\"white\" stroke=\"transparent\" points=\"-4,4 -4,-112 286,-112 286,4 -4,4\"/>\n",
       "<!-- array&#45;004 -->\n",
       "<g id=\"node1\" class=\"node\">\n",
       "<title>array-004</title>\n",
       "<g id=\"a_node1\"><a xlink:title=\"shape: (3, 3)\n",
       "chunks: (2, 2)\n",
       "dtype: int64\n",
       "calls: &lt;cell line: 1&gt; -&gt; asarray\" target=\"zarr.core.Array (3, 3) int64\">\n",
       "<polygon fill=\"none\" stroke=\"black\" points=\"132,-108 0,-108 0,-72 132,-72 132,-108\"/>\n",
       "<text text-anchor=\"middle\" x=\"66\" y=\"-86.3\" font-family=\"Helvetica,sans-Serif\" font-size=\"14.00\">array-004 (asarray)</text>\n",
       "</a>\n",
       "</g>\n",
       "</g>\n",
       "<!-- array&#45;006 -->\n",
       "<g id=\"node3\" class=\"node\">\n",
       "<title>array-006</title>\n",
       "<g id=\"a_node3\"><a xlink:title=\"shape: (3, 3)\n",
       "chunks: (2, 2)\n",
       "dtype: int64\n",
       "memory: 96.0 bytes\n",
       "tasks: 4\n",
       "calls: &lt;cell line: 3&gt; -&gt; add -&gt; elemwise -&gt; blockwise\" target=\"zarr.core.Array (3, 3) int64\">\n",
       "<polygon fill=\"none\" stroke=\"black\" points=\"214,-36 68,-36 68,0 214,0 214,-36\"/>\n",
       "<text text-anchor=\"middle\" x=\"141\" y=\"-14.3\" font-family=\"Helvetica,sans-Serif\" font-size=\"14.00\">array-006 (blockwise)</text>\n",
       "</a>\n",
       "</g>\n",
       "</g>\n",
       "<!-- array&#45;004&#45;&gt;array&#45;006 -->\n",
       "<g id=\"edge1\" class=\"edge\">\n",
       "<title>array-004-&gt;array-006</title>\n",
       "<path fill=\"none\" stroke=\"black\" d=\"M84.54,-71.7C93.8,-63.05 105.16,-52.45 115.26,-43.03\"/>\n",
       "<polygon fill=\"black\" stroke=\"black\" points=\"117.75,-45.49 122.67,-36.1 112.98,-40.37 117.75,-45.49\"/>\n",
       "</g>\n",
       "<!-- array&#45;005 -->\n",
       "<g id=\"node2\" class=\"node\">\n",
       "<title>array-005</title>\n",
       "<g id=\"a_node2\"><a xlink:title=\"shape: (3, 3)\n",
       "chunks: (2, 2)\n",
       "dtype: int64\n",
       "calls: &lt;cell line: 2&gt; -&gt; asarray\" target=\"zarr.core.Array (3, 3) int64\">\n",
       "<polygon fill=\"none\" stroke=\"black\" points=\"282,-108 150,-108 150,-72 282,-72 282,-108\"/>\n",
       "<text text-anchor=\"middle\" x=\"216\" y=\"-86.3\" font-family=\"Helvetica,sans-Serif\" font-size=\"14.00\">array-005 (asarray)</text>\n",
       "</a>\n",
       "</g>\n",
       "</g>\n",
       "<!-- array&#45;005&#45;&gt;array&#45;006 -->\n",
       "<g id=\"edge2\" class=\"edge\">\n",
       "<title>array-005-&gt;array-006</title>\n",
       "<path fill=\"none\" stroke=\"black\" d=\"M197.46,-71.7C188.2,-63.05 176.84,-52.45 166.74,-43.03\"/>\n",
       "<polygon fill=\"black\" stroke=\"black\" points=\"169.02,-40.37 159.33,-36.1 164.25,-45.49 169.02,-40.37\"/>\n",
       "</g>\n",
       "</g>\n",
       "</svg>"
      ],
      "text/plain": [
       "<IPython.core.display.SVG object>"
      ]
     },
     "execution_count": 9,
     "metadata": {},
     "output_type": "execute_result"
    }
   ],
   "source": [
    "c.visualize(\"add\")"
   ]
  },
  {
   "cell_type": "markdown",
   "id": "83389e25",
   "metadata": {},
   "source": [
    "Hover on an array to see its metadata (shape, chunks, and so on), as well as information about how much memory is needed to compute it and the number of tasks."
   ]
  },
  {
   "cell_type": "markdown",
   "id": "e74986d4",
   "metadata": {},
   "source": [
    "## Memory"
   ]
  },
  {
   "cell_type": "markdown",
   "id": "3191b881",
   "metadata": {},
   "source": [
    "Going back to `max_mem`, Cubed knows the sizes of the input chunks and how much memory will be needed for computing each output chunk. If this exceeds `max_mem` then an exception will be raised immediately (before `compute` is even called).\n",
    "\n",
    "For example, the arrays we are using are `float64` and so each element takes 8 bytes:"
   ]
  },
  {
   "cell_type": "code",
   "execution_count": 10,
   "id": "eb58fa76",
   "metadata": {},
   "outputs": [
    {
     "data": {
      "text/plain": [
       "8"
      ]
     },
     "execution_count": 10,
     "metadata": {},
     "output_type": "execute_result"
    }
   ],
   "source": [
    "a.dtype.itemsize"
   ]
  },
  {
   "cell_type": "markdown",
   "id": "8479cedf",
   "metadata": {},
   "source": [
    "Since the chunks are of size `(2, 2)`, this means that the amount of memory needed to compute an output chunk is `8 * 4 * 3 = 96`. (The 3 comes from the fact there are two inputs and one output.)\n",
    "\n",
    "So if we set the maximum memory to 90 we get an error:"
   ]
  },
  {
   "cell_type": "code",
   "execution_count": 11,
   "id": "ca058f41",
   "metadata": {},
   "outputs": [
    {
     "name": "stdout",
     "output_type": "stream",
     "text": [
      "Blockwise memory (96) exceeds max_mem (90)\n"
     ]
    }
   ],
   "source": [
    "spec = cubed.Spec(work_dir=\"tmp\", max_mem=90)\n",
    "a = xp.asarray([[1, 2, 3], [4, 5, 6], [7, 8, 9]], chunks=(2, 2), spec=spec)\n",
    "b = xp.asarray([[1, 1, 1], [1, 1, 1], [1, 1, 1]], chunks=(2, 2), spec=spec)\n",
    "try:\n",
    "    c = xp.add(a, b)\n",
    "except ValueError as e:\n",
    "    print(e)"
   ]
  },
  {
   "cell_type": "markdown",
   "id": "265f68a9",
   "metadata": {},
   "source": [
    "## Executors"
   ]
  },
  {
   "cell_type": "markdown",
   "id": "a14730d4",
   "metadata": {},
   "source": [
    "All the computation so far has run in the current Python process. For larger, more realistic workloads, the computations are spread across multiple machines. Cubed uses Rechunker's execution framework to achieve this, so we can run on Apache Beam for example:"
   ]
  },
  {
   "cell_type": "code",
   "execution_count": 12,
   "id": "c4073df0",
   "metadata": {},
   "outputs": [
    {
     "name": "stderr",
     "output_type": "stream",
     "text": [
      "WARNING:apache_beam.runners.interactive.interactive_environment:Dependencies required for Interactive Beam PCollection visualization are not available, please use: `pip install apache-beam[interactive]` to install necessary dependencies to enable all data visualization features.\n"
     ]
    },
    {
     "data": {
      "application/javascript": [
       "\n",
       "        if (typeof window.interactive_beam_jquery == 'undefined') {\n",
       "          var jqueryScript = document.createElement('script');\n",
       "          jqueryScript.src = 'https://code.jquery.com/jquery-3.4.1.slim.min.js';\n",
       "          jqueryScript.type = 'text/javascript';\n",
       "          jqueryScript.onload = function() {\n",
       "            var datatableScript = document.createElement('script');\n",
       "            datatableScript.src = 'https://cdn.datatables.net/1.10.20/js/jquery.dataTables.min.js';\n",
       "            datatableScript.type = 'text/javascript';\n",
       "            datatableScript.onload = function() {\n",
       "              window.interactive_beam_jquery = jQuery.noConflict(true);\n",
       "              window.interactive_beam_jquery(document).ready(function($){\n",
       "                \n",
       "              });\n",
       "            }\n",
       "            document.head.appendChild(datatableScript);\n",
       "          };\n",
       "          document.head.appendChild(jqueryScript);\n",
       "        } else {\n",
       "          window.interactive_beam_jquery(document).ready(function($){\n",
       "            \n",
       "          });\n",
       "        }"
      ]
     },
     "metadata": {},
     "output_type": "display_data"
    },
    {
     "name": "stderr",
     "output_type": "stream",
     "text": [
      "WARNING:root:Make sure that locally built Python SDK docker image has Python 3.8 interpreter.\n"
     ]
    },
    {
     "data": {
      "text/plain": [
       "array([[ 2,  3,  4],\n",
       "       [ 5,  6,  7],\n",
       "       [ 8,  9, 10]])"
      ]
     },
     "execution_count": 12,
     "metadata": {},
     "output_type": "execute_result"
    }
   ],
   "source": [
    "from cubed.runtime.executors.beam import BeamPipelineExecutor\n",
    "    \n",
    "spec = cubed.Spec(work_dir=\"tmp\", max_mem=100_000)\n",
    "a = xp.asarray([[1, 2, 3], [4, 5, 6], [7, 8, 9]], chunks=(2, 2), spec=spec)\n",
    "b = xp.asarray([[1, 1, 1], [1, 1, 1], [1, 1, 1]], chunks=(2, 2), spec=spec)\n",
    "c = xp.add(a, b)\n",
    "c.compute(executor=BeamPipelineExecutor())"
   ]
  },
  {
   "cell_type": "markdown",
   "id": "1a8e4e3a",
   "metadata": {},
   "source": [
    "In this case we still are still running in the local Python process, because Beam is using an in-memory runner itself. However, we can run on Google Cloud, for example, by setting the Beam runner to `DataflowRunner`, and using a Google Cloud Storage work directory (`gs://...`). You can see examples of this in the `examples` directory."
   ]
  },
  {
   "cell_type": "code",
   "execution_count": 13,
   "id": "743d1165",
   "metadata": {},
   "outputs": [],
   "source": [
    "! rm -rf tmp"
   ]
  },
  {
   "cell_type": "code",
   "execution_count": null,
   "id": "ea14f241",
   "metadata": {},
   "outputs": [],
   "source": []
  }
 ],
 "metadata": {
  "kernelspec": {
   "display_name": "Python 3 (ipykernel)",
   "language": "python",
   "name": "python3"
  },
  "language_info": {
   "codemirror_mode": {
    "name": "ipython",
    "version": 3
   },
   "file_extension": ".py",
   "mimetype": "text/x-python",
   "name": "python",
   "nbconvert_exporter": "python",
   "pygments_lexer": "ipython3",
   "version": "3.8.13"
  }
 },
 "nbformat": 4,
 "nbformat_minor": 5
}
